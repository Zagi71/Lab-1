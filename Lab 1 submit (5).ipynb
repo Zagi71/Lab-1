{
 "cells": [
  {
   "cell_type": "markdown",
   "metadata": {
    "id": "8zY0Ebm6ggAs",
    "nteract": {
     "transient": {
      "deleting": false
     }
    },
    "tags": []
   },
   "source": [
    "# Inspection Area\n",
    "\n",
    "For this assignment, provide a description of you MyBio code. Describe where you put the string constants and why you think they go there. Notice, in my example, that I put all of the string constants in the main part of the program, not in the class. Why might that be a useful way to design this simple program?\n",
    "\n",
    "In this lab we did total of 5 different different programs to write. In MyBio class person and we had to define the string under it in order to get the required result. First we were provided with __init__ string and than in order to print introduce string was formed. And than in order to print the reuired result objects were formed. Then oerson class object was created.\n",
    "\n",
    "I put strings in the main so its followed and can be used in each class\n",
    "\n",
    "That migth be useful way becuase we can use them in classes and implement them in required order "
   ]
  },
  {
   "cell_type": "markdown",
   "metadata": {
    "id": "kcLKpUYlggBA"
   },
   "source": [
    "###### Deliverables:  30 total points\n",
    "  - helloMe 4 points\n",
    "  - helloAgain 5 points\n",
    "  - myBio 6 points\n",
    "  - countAT-bugsSoln 9 points\n",
    "  - countNucleotides 6 points\n",
    "     \n",
    "## Due: Monday January 10, 2022 11:55pm \n",
    "## Lab 1 – Introduction to Python (30 points)\n",
    "Work in small groups. Find youself a team who you will hopefully work with throughout the quarter.\n",
    "Although you are required to turn in independent code and answers yourself, you are encouraged to ask questions and work with each other to solve these exercises. Programming has a lot of area-specific vocabulary and concepts so it is often extremely helpful to ask for help when you run up against hurdles. Make sure to include your partners name(s) as a comment in the first few lines of your program, like this:"
   ]
  },
  {
   "cell_type": "code",
   "execution_count": 1,
   "metadata": {
    "execution": {
     "iopub.execute_input": "2021-12-28T03:08:32.097Z",
     "iopub.status.busy": "2021-12-28T03:08:32.091Z",
     "iopub.status.idle": "2021-12-28T03:08:32.111Z",
     "shell.execute_reply": "2021-12-28T03:08:32.118Z"
    },
    "id": "TFozh6UxggBE"
   },
   "outputs": [],
   "source": [
    "#!/usr/bin/env python3 \n",
    "# Name: Zargham Abbas\n",
    "# Group Members: Aanand Verna, Andrew Matsiev, Rogelio Chavez, Samuel Hirsch"
   ]
  },
  {
   "cell_type": "markdown",
   "metadata": {
    "id": "UEX13IHAggBK"
   },
   "source": [
    "## Setup your workspace\n",
    "### Install Anaconda on your machine\n",
    "From the machine that you intend to do all of your work for BME 160, go to: https://www.anaconda.com/products/individual/\n",
    "From that page, select the Python 3.9 version by using the download button. This may take awhile, depending on your internet connection speed.\n",
    "\n",
    "### Downloading your first notebook\n",
    "The document you are now reading is a jupyter notebook. It is available for download using our class website service Canvas. \n",
    "First we will need to create a folder that you’ll use for this lab. To do this create a folder called bme160 on the desktop.\n",
    "From Canvas :: files :: jupyter, download Lab01.ipynb, and place it into your bme160 folder.\n",
    "\n",
    "There are five programs you will need to write. They are all embedded in Lab01.ipynb as jupyter \"cells\". Make sure to place Lab01.ipynb into your Lab01 folder.\n",
    "### Accessing Jupyter\n",
    "####  Open jupyter\n",
    "\n",
    "There are a number of ways to startup jupyter. Here are a few:\n",
    " -  LocalHost  Open _terminal_ ( located in the utilities folder on MacOS ), then change to the Lab01 directory and startup: jupyter notebook\n",
    " - https://try.jupyter.org you will then need to upload Lab 01.ipynb to that remote server. This server enforces a 10-minute inactivity limit, so you will need to save your work often. Note that this remote server sometimes doesnt run.\n",
    " - Anaconda Navigator. Startup Anaconda, then select: jupyter notebook. From Jupyter, you can then navigate to your Desktop, then to bme160, and then open Lab01.ipynb. That should bring you to a page that looks just like the Lab01 assignment.\n",
    "\n",
    "Try out __jupyter__ by selecting the following cell, then push the \"run\" button in the toolbar above, or pull down the _Cell_ menu above and select Run Cells. Notice that cells that contain runable code start with In [ ]: "
   ]
  },
  {
   "cell_type": "code",
   "execution_count": null,
   "metadata": {
    "id": "BNUrqAnIggBO"
   },
   "outputs": [],
   "source": [
    "print ('hello Sally')"
   ]
  },
  {
   "cell_type": "markdown",
   "metadata": {
    "id": "m64rAPGXggBU"
   },
   "source": [
    "make sure that “hello” is returned.\n",
    "\n",
    "From here on, you will be writing programs. \n",
    "## First python program\n",
    "The hello.py program is one of the first python programs that people write.\n",
    "\n",
    "Documenting code is an important and often overlooked process in software engineering. Don’t fall into the trap of not adding comments to your code! Note, you will not receive full credit on your assignment if your code is not clearly documented. To add comments you use the ’#’ character for single line comments, or you can use triple-quotes (“””) to begin a block of comments and then add another set of triple-quotes to end that block comment.\n",
    "\n",
    "To get an idea of what documenting and comments look like, here is an old-school version of the ’hello.py’ program,  documented:"
   ]
  },
  {
   "cell_type": "code",
   "execution_count": null,
   "metadata": {
    "id": "OJgPnzO-ggBX",
    "outputId": "f4247902-e768-461e-b984-3a32db18e2d8"
   },
   "outputs": [
    {
     "name": "stdout",
     "output_type": "stream",
     "text": [
      "Hello World\n"
     ]
    }
   ],
   "source": [
    "#!/usr/bin/env python3\n",
    "# Name: David Bernick (dbernick)\n",
    "# Group Members: John Cleese (jcleese) and Eric Idle (eidle)\n",
    "\n",
    "\"\"\"\n",
    "Print out the string Hello World when run.\n",
    "\"\"\"\n",
    "# remember that strings in python use either single (') or double (\") quotes.\n",
    "print (\"Hello World\") "
   ]
  },
  {
   "cell_type": "markdown",
   "metadata": {
    "id": "K4rEVO77ggBd"
   },
   "source": [
    "Add your own similar-looking documentation and comments to the the following code, customizing it for yourself, and lets make it print: Hello __your name__ instead. In my case, it would print \"Hello David\""
   ]
  },
  {
   "cell_type": "markdown",
   "metadata": {
    "id": "z4DEfQWxggBf"
   },
   "source": [
    "## helloMe"
   ]
  },
  {
   "cell_type": "code",
   "execution_count": 18,
   "metadata": {
    "colab": {
     "base_uri": "https://localhost:8080/"
    },
    "id": "doXO0uWcggBi",
    "outputId": "aadfa0f3-4b03-4d68-ea0e-2600332922bd"
   },
   "outputs": [
    {
     "name": "stdout",
     "output_type": "stream",
     "text": [
      "Hello Zarghaam\n",
      "bark bark\n"
     ]
    }
   ],
   "source": [
    "#!/usr/bin/env python3\n",
    "# Name: Zargham Abbas, \n",
    "# Group Members: Aanand Verna, Andrew Matsiev, Rogelio Chavez, Samuel Hirsch\n",
    "\n",
    "\"\"\"\n",
    "Print out the most common statement in computer programming, Hello World.\n",
    "\"\"\" \n",
    "\n",
    "''' this is a single line docstring '''\n",
    "class Announcer (str): # Announcer is now defined as a kind of python string.\n",
    "    def printMe (self):\n",
    "        print (self)\n",
    "#here we will insert Zargham inplace of david So, the class will print hello Zargham\n",
    "student = Announcer ('Hello Zarghaam')\n",
    "dog = Announcer ('bark bark')\n",
    "student.printMe()\n",
    "dog.printMe()\n"
   ]
  },
  {
   "cell_type": "markdown",
   "metadata": {
    "id": "dAURyhdqggBk"
   },
   "source": [
    "There are a few things to mention about this style of coding. Classes are templates for _objects_. The _announcer_ class is a kind of _string_ class, and we tell python that by including (str) after the name of the class. We have added a method ( printme) to the announcer class, and that method allows objects of class announcer to _print_ themselves. In python, we access data that is saved in an object using the word _self_. Since objects of this class are strings, _self_ refers to the data ('Hello David' in this case). You will notice that python methods are defined using the keyword: def _name_ ( self, parameters)\n",
    "\n",
    "The line: _student = announcer ('Hello David')_ creates a new name (student), of class _announcer_ and it is given a parameter _'Hello David'_. That parameter is given to announcer as its data. Objects of class announcer refer to that data using the name _self_. \n",
    "\n",
    "The line: _student.printme()_ sends a printme() message to the student object, and the student object then prints out its data."
   ]
  },
  {
   "cell_type": "markdown",
   "metadata": {
    "id": "7qhuoSMHggBm"
   },
   "source": [
    "## Return of “Hello World”\n",
    "We will now take a look at a more sophisticated, second person version of _helloMe_. \n",
    "As currently written, it should ask you to enter a name; you type in the name and then press the _enter_ key (maybe labelled return).\n",
    "\n",
    "The output you should see is:\n",
    "\n",
    "Hi there, I am _name_\n",
    "\n",
    "Look at _helloAgain_ below. You’ll notice that it’s more complex and longer than _helloMe_. \n",
    "Now modify _helloAgain_ so that, in addition to asking for that person’s name, the program also prompts the user for their favorite pet like this:\n",
    "\n",
    "“What is your favorite pet? :”\n",
    "\n",
    "To make this clearer, here are a few lines that belong in your revised _helloAgain_."
   ]
  },
  {
   "cell_type": "code",
   "execution_count": 10,
   "metadata": {
    "id": "Q1hZOxzpggBo"
   },
   "outputs": [],
   "source": [
    "name = input( \"What is your name? : \" )\n",
    "pet = input( \"What is your favorite kind of pet? : \")\n",
    "newPerson = person (name, pet)\n",
    "newPerson.introduce()"
   ]
  },
  {
   "cell_type": "markdown",
   "metadata": {
    "id": "E1O6pWtGggBq"
   },
   "source": [
    "### helloAgain"
   ]
  },
  {
   "cell_type": "code",
   "execution_count": 17,
   "metadata": {
    "colab": {
     "base_uri": "https://localhost:8080/"
    },
    "id": "mH25RHTiggBs",
    "outputId": "8c3fa1cf-d48b-4ef2-fea9-fad00e511259"
   },
   "outputs": [
    {
     "name": "stdin",
     "output_type": "stream",
     "text": [
      "What is your name? :  Zarghaam \n",
      "What is your favorite kind of pet? :  dog\n"
     ]
    },
    {
     "name": "stdout",
     "output_type": "stream",
     "text": [
      "Hi there, I am Zarghaam , and i like dogs\n"
     ]
    }
   ],
   "source": [
    "#!/usr/bin/env python3\n",
    "# Name: Zarghaam Abbas\n",
    "# Group Members: Aanand Verna, Andrew Matsiev, Rogelio Chavez, Samuel Hirsch\n",
    "\n",
    "\"\"\"\n",
    "Build a Person object and have it introduce itself.\n",
    "\n",
    "input: a string of arbitrary length, which is used to name the new person object\n",
    "output: greeting printed to screen\n",
    "\"\"\"\n",
    "\n",
    "class Person:\n",
    "    def __init__(self,name,pet):\n",
    "        self.myName = name\n",
    "        self.myPet  = pet\n",
    "        \n",
    "    def introduce (self):\n",
    "        print (\"Hi there, I am {0}, and i like {1}s\".format(self.myName,self.myPet))\n",
    "\n",
    "\n",
    "# put your new code here.\n",
    "# taking input user Name\n",
    "name = input( \"What is your name? : \" )\n",
    "#taking input of its favourite pet\n",
    "pet = input( \"What is your favorite kind of pet? : \")\n",
    "#Creating object newperon of class person\n",
    "newPerson = Person (name, pet)\n",
    "# calling the introduce function that outputs the introduction\n",
    "newPerson.introduce()"
   ]
  },
  {
   "cell_type": "markdown",
   "metadata": {
    "id": "WWdwB7RSi38X"
   },
   "source": []
  },
  {
   "cell_type": "markdown",
   "metadata": {
    "id": "29RtlkvXggBt"
   },
   "source": [
    "Your new version of _helloAgain_ should now print something that looks like this: \n",
    "\n",
    "“Hi there, I am _Zargham_ and I like _dog_ !”\n",
    "\n",
    "replacing the italicized text with what the user entered at the command line. Note the statement uses a plural form by appending the letter s, your program should do this too.\n",
    "\n",
    "So, if you decided that your new person is named Fred, and Fred is fond of his pet aardvark, then your program would\n",
    "output:\n",
    "\n",
    "Hi there, I am Fred and I like aardvarks!\n",
    "\n",
    "Remember to save and add documentation/comments to _helloAgain_ ."
   ]
  },
  {
   "cell_type": "markdown",
   "metadata": {
    "id": "LJ5LxikvggBv"
   },
   "source": [
    "## Brief Biography Program\n",
    "Now that you’ve gotten a little experience programming and seen a few python programs, next you’ll write a program that will do the following:\n",
    "\n",
    "  - Print your full name (first and last)\n",
    "  - Print your CATS/CruzMail username\n",
    "  - Print whether your are an undergraduate or graduate student\n",
    "  - Print your major\n",
    "  - Print why you are taking this class and what you hope to get out of it\n",
    "  - What problem in molecular biology most interests you.\n",
    "  - Print your prior computer programming experience\n",
    "\n",
    "This program should NOT ask the user for this data. This data should be constants in your program. The constants should NOT be part of the person class -- use parameters that are given to your person object when it is instantiated. \n",
    "The name of the program is “myBio” and a sample execution of the program should look something like this:\n",
    "\n",
    "My name is _**David Bernick**_. <br>\n",
    "My username is _**dbernick**_. <br>\n",
    "I am a _**professor**_. <br>\n",
    "My major is _**Bioinformatics and Biomolecular Engineering**_. <br>\n",
    "_**I’m  not taking this class, but I teach it**_. <br>\n",
    "_**I am a synthetic bioengineer and I’m interested in  extreme life, especially hypertherthermophiles and hypersalinophiles, with a focus on small RNA and novel proteins from extreme viruses.**_ <br>\n",
    "I have prior programming experience using _**Python, Perl, Java, Fortran, Pascal, PL/1, ADA, Basic,TPL, APL, Assembly, and C++ (Im not very fond of this though)**_. <br>\n",
    "\n",
    "Each piece of info should occupy only a single line.\n",
    "\n",
    "In order to get full credit, the program must use attributes of the person class for each of the _**emphasized strings**_ above and contain appropriate documentation/comments. \n",
    "\n",
    "Note that in Python, *names* that are part of a class are called *attributes*. Functions that are part of a class are called *methods*. In other languages, *names* are sometimes called *variables*."
   ]
  },
  {
   "cell_type": "markdown",
   "metadata": {
    "id": "c7hOT5hOggBw"
   },
   "source": [
    "### myBio"
   ]
  },
  {
   "cell_type": "code",
   "execution_count": 16,
   "metadata": {
    "colab": {
     "base_uri": "https://localhost:8080/"
    },
    "id": "feKitwDUggBy",
    "outputId": "2109de5f-e08c-437f-8e8e-a865634f947c"
   },
   "outputs": [
    {
     "name": "stdout",
     "output_type": "stream",
     "text": [
      "Hi there, I am Zarghaam Abbas\n",
      "My username is zabbas1@ucsc.edu\n",
      "I am a/an undergraduate student\n",
      "My major is Bioinformatics\n",
      "I take this class becaue I want to study how computer tools are used in different feilds\n",
      "The interesting thing is  Programming usage in biological technology\n",
      "my experience is in i have previous expeirience of using C++ and ruby\n"
     ]
    }
   ],
   "source": [
    "#!/usr/bin/env python3\n",
    "# Name: Zargham Abbas\n",
    "# Group Members: Aanand Verna, Andrew Matsiev, Rogelio Chavez, Samuel Hirsch\n",
    "\n",
    "\"\"\"\n",
    "Build a Person object and have it introduce itself.\n",
    "\n",
    "input: a string of arbitrary length, which is used to name the new person object\n",
    "output: greeting printed to screen\n",
    "\"\"\"\n",
    "\n",
    "class Person:\n",
    "    def __init__(self,name,username,studentType,major,reason,interest,experience):\n",
    "        self.myName = name\n",
    "        self.myUername=username\n",
    "        self.studentType=studentType\n",
    "        self.major=major\n",
    "        self.reason=reason\n",
    "        self.interest=interest\n",
    "        self.experience=experience\n",
    "\n",
    "    def introduce (self):\n",
    "        print (\"Hi there, I am {0}\".format(self.myName))\n",
    "        print('My username is {0}'.format(self.myUername))\n",
    "        print('I am a/an {0} student'.format(self.studentType))\n",
    "        print('My major is {0}'.format(self.major))\n",
    "        print('I take this class becaue {0}'.format(self.reason))\n",
    "        print('The interesting thing is  {0}'.format(self.interest))\n",
    "        print('my experience is in {0}'.format(self.experience))\n",
    "\n",
    "# Creating objects that decribe my personality\n",
    "name = 'Zarghaam Abbas'\n",
    "username = 'zabbas1@ucsc.edu'\n",
    "studentType = 'undergraduate'\n",
    "major = 'Bioinformatics'\n",
    "reason='I want to study how computer tools are used in different feilds'\n",
    "interest='Programming usage in biological technology'\n",
    "experience='i have previous expeirience of using C++ and ruby'\n",
    "# Creating person class object with these variables that decribe my personality\n",
    "newPerson=Person(name,username,studentType,major,reason,interest,experience)\n",
    "# calling introduce function that describe my personality\n",
    "newPerson.introduce()\n"
   ]
  },
  {
   "cell_type": "markdown",
   "metadata": {
    "id": "ThpYjEQcggB0"
   },
   "source": [
    "## Debug buggy code\n",
    "Practice makes us better; usually debugging makes code closer to perfect. \n",
    "This program is supposed to ask the user to enter a DNA sequence and then output the AT content of the sequence— total number of As and Ts divided by the sequence length—as a fraction of the total sequence length (a number between 0 and 1).\n",
    "\n",
    "For example, given the string:\n",
    "\n",
    "AAAATGAATGGCTAACTTTTGAA\n",
    "\n",
    "the program should output: (make sure that you pay attention to the number of significant digits in the output!)\n",
    "\n",
    "AT content = 0.739\n",
    "\n",
    "Unfortunately there are a few bugs in the program. Your task is to identify and correct those bugs. This part of the assignment is to help familiarize you with the debugging process. It is possible to identify the bugs without using any of the following techniques just by looking over the program, but this will be good practice and will be essential when your code gets more complex.\n",
    "\n",
    "To debug countAT-bugs.py, run the program, which will produce an error. Figure out what the error is and correct the code. It’s likely that after you correct the first error you will notice another error. Repeat this process until you fix all the bugs and the program runs properly.\n",
    "\n",
    "Save a corrected copy of the program called countAT-bugsSoln.py that includes: \n",
    "  - Documentation and comments\n",
    "  - A program overview that includes how many bugs you found and what lines from the original file they were found at."
   ]
  },
  {
   "cell_type": "markdown",
   "metadata": {
    "id": "znYugCZjggB2"
   },
   "source": [
    "## countAT-bugs"
   ]
  },
  {
   "cell_type": "code",
   "execution_count": 15,
   "metadata": {
    "colab": {
     "base_uri": "https://localhost:8080/"
    },
    "id": "Be9rHUs0ggB3",
    "outputId": "333acf6b-c76b-45ee-8141-c13531b5818f"
   },
   "outputs": [
    {
     "name": "stdin",
     "output_type": "stream",
     "text": [
      "Enter a dna sequence:  AAAATGAATGGCTAACTTTTGAA\n"
     ]
    },
    {
     "name": "stdout",
     "output_type": "stream",
     "text": [
      "AT content = 0.739\n"
     ]
    }
   ],
   "source": [
    "#!/usr/bin/env python3\n",
    "# Name: Zargham\n",
    "# Group Members: Aanand Verna, Andrew Matsiev, Rogelio Chavez, Samuel Hirsch\n",
    "\n",
    "class dnaString (str):\n",
    "    def length (self):\n",
    "        return (len(self))\n",
    "\n",
    "    def getAT (self):\n",
    "      # As we are looking for Character A not any variable A therefore we will put quatation matrks around the variable A\n",
    "        num_A = self.count(\"A\")\n",
    "        num_T = self.count(\"T\")\n",
    "        #here length was incorectly writen instead we will call a method of self length that return length of the string \n",
    "        return ((num_A + num_T)/ self.length())\n",
    "\n",
    "dna = input(\"Enter a dna sequence: \")\n",
    "upperDNA = dna.upper()\n",
    "coolString = dnaString(upperDNA)\n",
    "#this output the string til 3 decimal point\n",
    "print (\"AT content = {0:0.3f}\".format(coolString.getAT()) )"
   ]
  },
  {
   "cell_type": "markdown",
   "metadata": {
    "id": "1sWt35pBggB4"
   },
   "source": [
    "AAAATGAATGGCTAACTTTTGAA## Counting DNA Letters \n",
    "Now that you are inspired by your ability to debug the countAT-bugs code, let's create a new program that will ask the user to enter a DNA sequence and then output the total sequence length and \n",
    "the number of each base {total As, Cs, Gs, Ts} found in the sequence. \n",
    "For example, given the string:\n",
    "\n",
    "AAAATGAATGGCTAACTTTTGAA\n",
    "\n",
    "the program should output:\n",
    "\n",
    "Your sequence is 23 nucleotides long with the following breakdown of bases:\n",
    "\n",
    "number As = 10\n",
    "number Cs = 2\n",
    "number Gs = 4\n",
    "number Ts = 7\n",
    "\n",
    "Write a program called countNucleotides (put it below) that will take in a DNA sequence entered by a user and produce the outputs specified above. Note that \"specified\" means ... \"required\"\n",
    "\n",
    "To get full credit on this assignment, your code needs to:\n",
    "\n",
    "  * Run properly\n",
    "  * Contain documentation/comments\n",
    "  * Include an overview about what your program is designed to do with expected inputs and outputs. Use a MarkDown Cell to write your overview."
   ]
  },
  {
   "cell_type": "markdown",
   "metadata": {
    "id": "yZQPsYDNggB6"
   },
   "source": [
    "### countNucleotides"
   ]
  },
  {
   "cell_type": "code",
   "execution_count": 14,
   "metadata": {
    "colab": {
     "base_uri": "https://localhost:8080/"
    },
    "id": "xHXBAqE4ggB7",
    "outputId": "00e26585-2a00-4db3-99b9-9e95caf72f8f"
   },
   "outputs": [
    {
     "name": "stdin",
     "output_type": "stream",
     "text": [
      "Enter a dna sequence:  AAAATGAATGGCTAACTTTTGAA\n"
     ]
    },
    {
     "name": "stdout",
     "output_type": "stream",
     "text": [
      "number As = 10 number C = 2 number Gs = 4 number T = 7\n"
     ]
    }
   ],
   "source": [
    "#!/usr/bin/env python3\n",
    "# Name: Zargham\n",
    "# Group Members: Aanand Verna, Andrew Matsiev, Rogelio Chavez, Samuel Hirsch\n",
    "\n",
    "class dnaString (str):\n",
    "    def length (self):\n",
    "        return (len(self))\n",
    "\n",
    "    def getAT (self):\n",
    "      #we will write A as string\n",
    "        num_A = self.count(\"A\")\n",
    "        num_T = self.count(\"T\")\n",
    "        #we will call length function\n",
    "        return ((num_A + num_T)/ self.length() )\n",
    "    def countNucleotideA (self):\n",
    "      #This will count accurence of A\n",
    "        num_A = self.count('A')\n",
    "        return num_A\n",
    "    #This will count accurence of C\n",
    "    def countNucleotideC (self):\n",
    "        num_C = self.count('C')\n",
    "        return num_C\n",
    "    #This will count accurence of G\n",
    "    def countNucleotideG (self):\n",
    "        num_G = self.count('G')\n",
    "        return num_G\n",
    "    #This will count accurence of T\n",
    "    def countNucleotideT (self):\n",
    "        num_T = self.count('T')\n",
    "        return num_T\n",
    "#INPUT THE DNA SEQUENCE\n",
    "dna = input(\"Enter a dna sequence: \")\n",
    "#CONVERT TO UPPER CASE\n",
    "upperDNA = dna.upper()\n",
    "#CREATING OBJECT FOR THAT SPECCIFIC SEQUENCE\n",
    "coolString = dnaString(upperDNA)\n",
    "#PRINT TIME OF A,C,G,T\n",
    "print (\"number As = {} number C = {} number Gs = {} number T = {}\".format(\n",
    "    coolString.countNucleotideA(),\n",
    "    coolString.countNucleotideC(),coolString.countNucleotideG(),\n",
    "    coolString.countNucleotideT()))\n"
   ]
  },
  {
   "cell_type": "markdown",
   "metadata": {
    "id": "u6q-G1jEggB8"
   },
   "source": [
    "## Submit your code and answers\n",
    "Important: please save your work before logging out of the computer. This will ensure that you have a copy of your work and you will avoid having to redo everything in the event that something happens. The two recommended solutions (pick one) at this point are to:\n",
    "\n",
    "  - Email your jupyter notebook to yourself\n",
    "  - Copy your notebook to a pen drive\n",
    "  \n",
    "The class will be using canvas to submit the notebook created as part of this lab assignment.\n",
    "\n",
    "For this lab, you should upload your notebook with the following cells filled in\n",
    "\n",
    "  * helloMe 4 points\n",
    "  * helloAgain 5 points\n",
    "  * myBio 6 points\n",
    "  * countAT-bugsSoln 9 points\n",
    "  * countNucleotides 6 points \n",
    "\n",
    "Important: to get full credit on this lab assignment, everything needs to\n",
    "\n",
    "  * Run properly\n",
    "  * Contain informative documentation/comment, including your name and your partner\n",
    "  * be your own work\n",
    "\n",
    "Congratulations, you finished your first lab assignment!"
   ]
  },
  {
   "cell_type": "markdown",
   "metadata": {
    "id": "ZStQLKblggB9",
    "nteract": {
     "transient": {
      "deleting": false
     }
    }
   },
   "source": [
    "# Inspection results ( Who and When )\n",
    "\n",
    "What did your inspection team have to say about the work and who are they? Did you discuss the many coding choices that are available, even in a beginning assignment like this? What did you decide to do as a result of the inspection?\n",
    "\n",
    "In the countT-bugs program i was missing out on the 3 decimals so i was correct by Anand Verna. Overall Inspection team was satisfied with my code and did not find any errors. The insoection team was my group members which include Aanand Verna, Andrew Matsiev, Rogelio Chavez, Samuel Hirsch. We did not discuss other choices since we were not highly expierienced python programmers. As a result we decided to implement the codes written by all the group members "
   ]
  }
 ],
 "metadata": {
  "colab": {
   "collapsed_sections": [],
   "name": "Lab 01 (8).ipynb",
   "provenance": []
  },
  "kernelspec": {
   "display_name": "Python 3 (ipykernel)",
   "language": "python",
   "name": "python3"
  },
  "language_info": {
   "codemirror_mode": {
    "name": "ipython",
    "version": 3
   },
   "file_extension": ".py",
   "mimetype": "text/x-python",
   "name": "python",
   "nbconvert_exporter": "python",
   "pygments_lexer": "ipython3",
   "version": "3.9.7"
  },
  "nteract": {
   "version": "0.28.0"
  }
 },
 "nbformat": 4,
 "nbformat_minor": 4
}
